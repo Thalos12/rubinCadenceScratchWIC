{
 "cells": [
  {
   "cell_type": "markdown",
   "metadata": {},
   "source": [
    "**(2021-01-20 WIC:)** This is Peter Yoachim's AstrometryMetrics.ipynb with a couple of very minor tweaks to run on DataLab and sciserver.\n",
    "\n",
    "This notebook assumes you are using sims_maf version >= 1.1, and have 'setup sims_maf' in your shell. \n",
    "\n",
    "## Demonstrate the proper motion and parallax metrics. ##\n",
    "\n",
    "For both of these metrics, visits in all bands are used (unless restricted by the user via a sqlconstraint). \n",
    "The astrometric error for each visit, for a star of the specified brightness and spectral type, is estimated from the magnitude of the star and the m5 limit of each visit (recorded by opsim). \n",
    "The parallax error is estimated by assuming that the proper motion is perfectly fit (or zero); the proper motion error is likewise estimated by assuming the parallax is perfectly fit (or zero). \n",
    "In both cases, the effects of refraction is not currently included in the astrometric error. \n",
    "\n",
    "Here is a link to the [code](https://github.com/lsst/sims_maf/blob/master/python/lsst/sims/maf/metrics/calibrationMetrics.py) for the proper motion and parallax metrics. \n",
    "The 'ra_pi_amp' and 'dec_pi_amp' columns referred to in the parallax metric are stacker columns which calculate the parallax amplitude (in ra and dec) for each visit, using this [code](https://github.com/lsst/sims_maf/blob/master/python/lsst/sims/maf/stackers/generalStackers.py). "
   ]
  },
  {
   "cell_type": "code",
   "execution_count": null,
   "metadata": {},
   "outputs": [],
   "source": [
    "# 2021-01-20 - try running this on DataLab. "
   ]
  },
  {
   "cell_type": "code",
   "execution_count": 2,
   "metadata": {},
   "outputs": [],
   "source": [
    "import matplotlib.pyplot as plt\n",
    "%matplotlib inline\n",
    "import lsst.sims.maf.db as db\n",
    "import lsst.sims.maf.metrics as metrics\n",
    "import lsst.sims.maf.slicers as slicers\n",
    "import lsst.sims.maf.metricBundles as metricBundles"
   ]
  },
  {
   "cell_type": "code",
   "execution_count": 3,
   "metadata": {},
   "outputs": [],
   "source": [
    "# root location for opsim. Uncomment as appropriate depending on whether you are on\n",
    "# sciserver or datalab\n",
    "\n",
    "# On DataLab (notice subdirectories for each category):\n",
    "dbroot = '/sims_maf/fbs_1.5/baseline/'\n",
    "\n",
    "# On Sciserver\n",
    "# dbroot = '/home/idies/workspace/lsst_cadence/FBS_1.5/"
   ]
  },
  {
   "cell_type": "code",
   "execution_count": 4,
   "metadata": {},
   "outputs": [],
   "source": [
    "# Set up the database connection\n",
    "# Database available from: http://astro-lsst-01.astro.washington.edu:8081/db_gzip/baseline2018a.db.gz\n",
    "opsdb = db.OpsimDatabase(dbroot+'baseline_v1.5_10yrs.db')\n",
    "outDir = 'astrometry_test'\n",
    "resultsDb = db.ResultsDb(outDir=outDir)"
   ]
  },
  {
   "cell_type": "code",
   "execution_count": 5,
   "metadata": {},
   "outputs": [],
   "source": [
    "# (Use tab in this cell to do auto-complete to learn what's available)\n",
    "# metrics.ParallaxDcrDegenMetric"
   ]
  },
  {
   "cell_type": "markdown",
   "metadata": {},
   "source": [
    "Define our basic sqlconstraint (we'll only look at the first three years here) and define the metrics and slicer. "
   ]
  },
  {
   "cell_type": "code",
   "execution_count": 10,
   "metadata": {},
   "outputs": [
    {
     "name": "stdout",
     "output_type": "stream",
     "text": [
      "Healpix slicer using NSIDE=64, approximate resolution 54.967783 arcminutes\n"
     ]
    }
   ],
   "source": [
    "sql = 'night < %i' % (365.25*3) # See How well we do after year 3\n",
    "slicer = slicers.HealpixSlicer(nside=64)\n",
    "metricList = []\n",
    "metricList.append(metrics.ParallaxMetric())\n",
    "metricList.append(metrics.ParallaxMetric(metricName='parallax normed', normalize=True))\n",
    "metricList.append(metrics.ParallaxDcrDegenMetric())\n",
    "metricList.append(metrics.ProperMotionMetric())\n",
    "metricList.append(metrics.ProperMotionMetric(metricName='properMotion normed', normalize=True))"
   ]
  },
  {
   "cell_type": "markdown",
   "metadata": {},
   "source": [
    "Add a summary metric to compute for each of the metricBundles. "
   ]
  },
  {
   "cell_type": "code",
   "execution_count": 11,
   "metadata": {},
   "outputs": [],
   "source": [
    "summaryList = [metrics.MedianMetric()]"
   ]
  },
  {
   "cell_type": "code",
   "execution_count": 12,
   "metadata": {},
   "outputs": [],
   "source": [
    "bundleList = []\n",
    "plotDict = {'percentileClip': 95.}\n",
    "for metric in metricList:\n",
    "    bundleList.append(metricBundles.MetricBundle(metric,slicer,sql, summaryMetrics=summaryList,\n",
    "                                                plotDict=plotDict))"
   ]
  },
  {
   "cell_type": "code",
   "execution_count": null,
   "metadata": {},
   "outputs": [
    {
     "name": "stdout",
     "output_type": "stream",
     "text": [
      "Querying database SummaryAllProps with constraint night < 1095 for columns ['fiveSigmaDepth', 'observationStartMJD', 'fieldRA', 'observationStartLST', 'filter', 'altitude', 'seeingFwhmGeom', 'fieldDec']\n",
      "Found 657138 visits\n",
      "Running:  ['opsim_parallax_night_lt_1095_HEAL', 'opsim_parallax_normed_night_lt_1095_HEAL', 'opsim_ParallaxDcrDegenMetric_night_lt_1095_HEAL', 'opsim_properMotion_night_lt_1095_HEAL', 'opsim_properMotion_normed_night_lt_1095_HEAL']\n"
     ]
    },
    {
     "name": "stderr",
     "output_type": "stream",
     "text": [
      "/data0/lsst_stack/stack/miniconda3-py37_4.8.2-cb4e2dc/Linux64/sims_maf/2.13.0.sims-61-g3ee711b3+fffdf3dce1/python/lsst/sims/maf/metrics/calibrationMetrics.py:85: RuntimeWarning: divide by zero encountered in true_divide\n",
      "  sigma_B = position_errors/dec_pi_amp\n",
      "/data0/lsst_stack/stack/miniconda3-py37_4.8.2-cb4e2dc/Linux64/sims_maf/2.13.0.sims-61-g3ee711b3+fffdf3dce1/python/lsst/sims/maf/metrics/calibrationMetrics.py:87: RuntimeWarning: divide by zero encountered in double_scalars\n",
      "  sigma_dec = np.sqrt(1./np.sum(1./sigma_B**2))\n"
     ]
    }
   ],
   "source": [
    "bundleDict = metricBundles.makeBundlesDictFromList(bundleList)\n",
    "bgroup = metricBundles.MetricBundleGroup(bundleDict, opsdb, outDir=outDir, resultsDb=resultsDb)\n",
    "bgroup.runAll()"
   ]
  },
  {
   "cell_type": "code",
   "execution_count": null,
   "metadata": {},
   "outputs": [],
   "source": [
    "bgroup.plotAll(closefigs=False)"
   ]
  },
  {
   "cell_type": "markdown",
   "metadata": {},
   "source": [
    "By default, the proper motion and parallax metrics assume a flat SED with an r-band magnitude of 20, however this can be specified by the user when setting up the metric."
   ]
  },
  {
   "cell_type": "code",
   "execution_count": 10,
   "metadata": {},
   "outputs": [],
   "source": [
    "rmags = {'faint':25, 'bright':18}\n",
    "specTypes = ['B', 'K']\n",
    "metricList = []\n",
    "plotDict = {'percentileClip': 95.}\n",
    "for mag in rmags:\n",
    "    for specType in specTypes:\n",
    "        metricList.append(metrics.ParallaxMetric(rmag=rmags[mag], SedTemplate=specType, \n",
    "                                                 metricName='parallax_'+mag+'_'+specType))\n",
    "        metricList.append(metrics.ProperMotionMetric(rmag=rmags[mag], SedTemplate=specType, \n",
    "                                                     metricName='properMotion'+mag+'_'+specType))"
   ]
  },
  {
   "cell_type": "code",
   "execution_count": 11,
   "metadata": {},
   "outputs": [],
   "source": [
    "bundlesSpec = []\n",
    "for metric in metricList:\n",
    "    bundlesSpec.append(metricBundles.MetricBundle(metric,slicer,sql, summaryMetrics=summaryList,\n",
    "                                                plotDict=plotDict))\n",
    "bundlesSpec = metricBundles.makeBundlesDictFromList(bundlesSpec)"
   ]
  },
  {
   "cell_type": "code",
   "execution_count": 12,
   "metadata": {},
   "outputs": [
    {
     "name": "stdout",
     "output_type": "stream",
     "text": [
      "Querying database SummaryAllProps with constraint night < 1095 for columns ['filter', 'fiveSigmaDepth', 'observationStartMJD', 'fieldDec', 'seeingFwhmGeom', 'fieldRA']\n",
      "Found 696705 visits\n",
      "Running:  ['opsim_parallax_faint_B_night_lt_1095_HEAL', 'opsim_properMotionfaint_B_night_lt_1095_HEAL', 'opsim_parallax_faint_K_night_lt_1095_HEAL', 'opsim_properMotionfaint_K_night_lt_1095_HEAL', 'opsim_parallax_bright_B_night_lt_1095_HEAL', 'opsim_properMotionbright_B_night_lt_1095_HEAL', 'opsim_parallax_bright_K_night_lt_1095_HEAL', 'opsim_properMotionbright_K_night_lt_1095_HEAL']\n",
      "Completed metric generation.\n",
      "Running reduce methods.\n",
      "Running summary statistics.\n",
      "Completed.\n"
     ]
    }
   ],
   "source": [
    "bgroup = metricBundles.MetricBundleGroup(bundlesSpec, opsdb, outDir=outDir, resultsDb=resultsDb)\n",
    "bgroup.runAll()"
   ]
  },
  {
   "cell_type": "code",
   "execution_count": null,
   "metadata": {},
   "outputs": [],
   "source": [
    "bgroup.plotAll(closefigs=False)"
   ]
  },
  {
   "cell_type": "code",
   "execution_count": 14,
   "metadata": {},
   "outputs": [
    {
     "name": "stdout",
     "output_type": "stream",
     "text": [
      "Flat SED:\n",
      "parallax {'Median': 1.1205172953865949}\n",
      "parallax Normed {'Median': 0.73526281038490993}\n",
      "properMotion {'Median': 0.93208904119636315}\n",
      "properMotion Normed {'Median': 0.17288143229954442}\n",
      "B and K stars:\n",
      "parallax_faint_B {'Median': 27.929436281538997}\n",
      "properMotionfaint_B {'Median': 23.141520928258718}\n",
      "parallax_faint_K {'Median': 35.949074279472768}\n",
      "properMotionfaint_K {'Median': 30.111151359989581}\n",
      "parallax_bright_B {'Median': 0.92410426523842293}\n",
      "properMotionbright_B {'Median': 0.77791633783101355}\n",
      "parallax_bright_K {'Median': 0.88986200090022116}\n",
      "properMotionbright_K {'Median': 0.75686566854465209}\n"
     ]
    }
   ],
   "source": [
    "print('Flat SED:')\n",
    "for bundle in bundleList:\n",
    "    print(bundle.metric.name, bundle.summaryValues)\n",
    "print('B and K stars:')\n",
    "for bundle in bundlesSpec:\n",
    "    print(bundlesSpec[bundle].metric.name, bundlesSpec[bundle].summaryValues)"
   ]
  },
  {
   "cell_type": "code",
   "execution_count": null,
   "metadata": {},
   "outputs": [],
   "source": []
  },
  {
   "cell_type": "code",
   "execution_count": null,
   "metadata": {},
   "outputs": [],
   "source": []
  }
 ],
 "metadata": {
  "kernelspec": {
   "display_name": "LSST SIMS MAF (Py3, w.2020.45)",
   "language": "python",
   "name": "lsst_sims_maf-w.2020.45"
  },
  "language_info": {
   "codemirror_mode": {
    "name": "ipython",
    "version": 3
   },
   "file_extension": ".py",
   "mimetype": "text/x-python",
   "name": "python",
   "nbconvert_exporter": "python",
   "pygments_lexer": "ipython3",
   "version": "3.7.8"
  }
 },
 "nbformat": 4,
 "nbformat_minor": 4
}
